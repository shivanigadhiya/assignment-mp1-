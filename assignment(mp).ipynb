{
 "cells": [
  {
   "cell_type": "markdown",
   "id": "a45913cb-78d9-4c27-8215-825b1717d839",
   "metadata": {},
   "source": [
    "Q1. What is multiprocessing in python? Why is it useful?"
   ]
  },
  {
   "cell_type": "markdown",
   "id": "e86df97f-3288-49d9-8e29-069f54cd9124",
   "metadata": {},
   "source": [
    "Multiprocessing refers to running multiple processes simultaneously, which can be incredibly useful for speeding up your code and handling large datasets and tasks. For example, running an operation in parallel can divide a job into several smaller parts that can be processed simultaneously."
   ]
  },
  {
   "cell_type": "markdown",
   "id": "af0d331e-9792-4fd2-9be3-936fd3050256",
   "metadata": {},
   "source": [
    "Q2. What are the differences between multiprocessing and multithreading?"
   ]
  },
  {
   "cell_type": "markdown",
   "id": "9636b1ce-640b-40a3-979f-f535c5bfbfb7",
   "metadata": {},
   "source": [
    "Multiprocessing uses two or more CPUs to increase computing power, whereas multithreading uses a single process with multiple code segments to increase computing power. Multithreading focuses on generating computing threads from a single process, whereas multiprocessing increases computing power by adding CPUs."
   ]
  },
  {
   "cell_type": "markdown",
   "id": "65211664-5336-481d-9d6e-f3f518340528",
   "metadata": {},
   "source": [
    "Q3. Write a python code to create a process using the multiprocessing module."
   ]
  },
  {
   "cell_type": "code",
   "execution_count": 10,
   "id": "cd73a6c5-8c5f-4882-88f7-899661c2346c",
   "metadata": {},
   "outputs": [
    {
     "name": "stdout",
     "output_type": "stream",
     "text": [
      "This is a child process.\n",
      "Main process is completed.\n"
     ]
    }
   ],
   "source": [
    "import multiprocessing\n",
    "\n",
    "# Function to be executed in the process\n",
    "def process_function():\n",
    "    print(\"This is a child process.\")\n",
    "\n",
    "if __name__ == \"__main__\":\n",
    "    # Create a process\n",
    "    process = multiprocessing.Process(target=process_function)\n",
    "\n",
    "    # Start the process\n",
    "    process.start()\n",
    "\n",
    "    # Wait for the process to finish\n",
    "    process.join()\n",
    "\n",
    "    print(\"Main process is completed.\")\n"
   ]
  },
  {
   "cell_type": "markdown",
   "id": "33b60d53-0b9b-4024-a452-dc68f0d3f91e",
   "metadata": {},
   "source": [
    "Q4. What is a multiprocessing pool in python? Why is it used?"
   ]
  },
  {
   "cell_type": "markdown",
   "id": "f74047fc-4734-4c15-a6bf-ed4a58370bc0",
   "metadata": {},
   "source": [
    "In Python, a multiprocessing pool is a feature provided by the multiprocessing module that allows for the creation of a pool of worker processes. The pool manages a collection of worker processes and distributes tasks among them. It provides a convenient way to parallelize and distribute the execution of a function across multiple processes.\n",
    "\n"
   ]
  },
  {
   "cell_type": "markdown",
   "id": "84a53d8a-6a0a-469a-8935-4e2e17f82904",
   "metadata": {},
   "source": [
    "Q5. How can we create a pool of worker processes in python using the multiprocessing module?"
   ]
  },
  {
   "cell_type": "markdown",
   "id": "6b287304-3c97-489c-a2c3-3d321e183a5b",
   "metadata": {},
   "source": [
    "To create a pool of worker processes in Python using the multiprocessing module, you can utilize the multiprocessing.Pool() constructor. Here's an example of how to create a pool of worker processes:\n",
    "\n"
   ]
  },
  {
   "cell_type": "code",
   "execution_count": 11,
   "id": "10326b84-bdb6-440a-96db-ce6adaa618f5",
   "metadata": {},
   "outputs": [
    {
     "name": "stdout",
     "output_type": "stream",
     "text": [
      "Results: [1, 4, 9, 16, 25]\n"
     ]
    }
   ],
   "source": [
    "import multiprocessing\n",
    "\n",
    "# Function to be executed in parallel\n",
    "def process_function(x):\n",
    "    return x * x\n",
    "\n",
    "if __name__ == \"__main__\":\n",
    "    # Create a pool of worker processes\n",
    "    pool = multiprocessing.Pool()\n",
    "\n",
    "    # Generate a list of input values\n",
    "    inputs = [1, 2, 3, 4, 5]\n",
    "\n",
    "    # Apply the process function to the inputs using the pool\n",
    "    results = pool.map(process_function, inputs)\n",
    "\n",
    "    # Close the pool and wait for the processes to finish\n",
    "    pool.close()\n",
    "    pool.join()\n",
    "\n",
    "    # Print the results\n",
    "    print(\"Results:\", results)\n"
   ]
  },
  {
   "cell_type": "markdown",
   "id": "4b675485-6c24-4a64-9723-73c8cb0ffd64",
   "metadata": {},
   "source": [
    "Q6. Write a python program to create 4 processes, each process should print a different number using the\n",
    "multiprocessing module in python."
   ]
  },
  {
   "cell_type": "code",
   "execution_count": 12,
   "id": "16f7e116-a410-4b1b-bdc8-44a516c9c84b",
   "metadata": {},
   "outputs": [
    {
     "name": "stdout",
     "output_type": "stream",
     "text": [
      "Process ID:1444 \n",
      "Process ID:Number:\n",
      "  14471\n",
      "Number:Process ID:  21462\n",
      "\n",
      "Process ID:Number:  31481\n",
      "\n",
      "Number: 4\n",
      "Main process is completed.\n"
     ]
    }
   ],
   "source": [
    "import multiprocessing\n",
    "\n",
    "# Function to be executed in each process\n",
    "def print_number(number):\n",
    "    print(\"Process ID:\", multiprocessing.current_process().pid)\n",
    "    print(\"Number:\", number)\n",
    "\n",
    "if __name__ == \"__main__\":\n",
    "    # Create a list of numbers\n",
    "    numbers = [1, 2, 3, 4]\n",
    "\n",
    "    # Create a list to store the processes\n",
    "    processes = []\n",
    "\n",
    "    # Create and start the processes\n",
    "    for number in numbers:\n",
    "        process = multiprocessing.Process(target=print_number, args=(number,))\n",
    "        processes.append(process)\n",
    "        process.start()\n",
    "\n",
    "    # Wait for the processes to finish\n",
    "    for process in processes:\n",
    "        process.join()\n",
    "\n",
    "    print(\"Main process is completed.\")\n"
   ]
  },
  {
   "cell_type": "code",
   "execution_count": null,
   "id": "0f0ab9d0-6d5c-42b8-b478-59eb34c469b8",
   "metadata": {},
   "outputs": [],
   "source": []
  }
 ],
 "metadata": {
  "kernelspec": {
   "display_name": "Python 3 (ipykernel)",
   "language": "python",
   "name": "python3"
  },
  "language_info": {
   "codemirror_mode": {
    "name": "ipython",
    "version": 3
   },
   "file_extension": ".py",
   "mimetype": "text/x-python",
   "name": "python",
   "nbconvert_exporter": "python",
   "pygments_lexer": "ipython3",
   "version": "3.10.8"
  }
 },
 "nbformat": 4,
 "nbformat_minor": 5
}
